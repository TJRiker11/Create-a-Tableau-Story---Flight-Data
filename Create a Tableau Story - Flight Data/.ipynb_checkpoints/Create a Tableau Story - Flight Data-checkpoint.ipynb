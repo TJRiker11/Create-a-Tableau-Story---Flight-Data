{
 "cells": [
  {
   "cell_type": "markdown",
   "metadata": {},
   "source": [
    "# Create a Tableau Story - Flight Data"
   ]
  },
  {
   "cell_type": "markdown",
   "metadata": {},
   "source": [
    "> Full Tableau profile can be seen [Here](https://public.tableau.com/profile/trikerdev)."
   ]
  },
  {
   "cell_type": "markdown",
   "metadata": {},
   "source": [
    "> This dataset is collected from the United States Department of Transportation on flight delays from January 2010 to December 2019. The original dataset can be seen and download from [Here, On-Time Arrival Performance\n",
    "National (January, 2010 - December, 2019))](https://www.transtats.bts.gov/OT_Delay/OT_DelayCause1.asp?pn=1)."
   ]
  },
  {
   "cell_type": "markdown",
   "metadata": {},
   "source": [
    "> The full dataset used and all other project files can be seen in [This Github Repository](https://github.com/TrikerDev/Create-a-Tableau-Story---Flight-Data)."
   ]
  },
  {
   "cell_type": "markdown",
   "metadata": {},
   "source": [
    "## Causes of Delay"
   ]
  },
  {
   "cell_type": "markdown",
   "metadata": {},
   "source": [
    "Airlines that report monthly numbers of flight delays to the BTS began reporting information on causes of delays in June 2003. The airlines report the causes of delays in five broad categories:\n",
    "\n",
    ">* **Air Carrier**: The cause of the cancellation or delay was due to circumstances within the airline's control (e.g. maintenance or crew problems, aircraft cleaning, baggage loading, fueling, etc.).\n",
    "\n",
    ">* **Extreme Weather**: Significant meteorological conditions (actual or forecasted) that, in the judgment of the carrier, delays or prevents the operation of a flight such as tornado, blizzard or hurricane.\n",
    "\n",
    ">* **National Aviation System (NAS)**: Delays and cancellations attributable to the national aviation system that refer to a broad set of conditions, such as non-extreme weather conditions, airport operations, heavy traffic volume, and air traffic control.\n",
    "\n",
    ">* **Late-arriving aircraft**: A previous flight with same aircraft arrived late, causing the present flight to depart late.\n",
    "\n",
    ">* **Security**: Delays or cancellations caused by evacuation of a terminal or concourse, re-boarding of aircraft because of security breach, inoperative screening equipment and/or long lines in excess of 29 minutes at screening areas."
   ]
  },
  {
   "cell_type": "markdown",
   "metadata": {},
   "source": [
    "How are flight delays calculated?\n",
    "\n",
    "> A flight is counted as \"on time\" if it operated less than 15 minutes later than the scheduled time shown in the carriers' Computerized Reservations Systems (CRS). Arrival performance is based on arrival at the gate. Departure performance is based on departure from the gate.\n",
    "\n",
    "> A flight is considered delayed when it arrived 15 or more minutes later than the scheduled time. Delayed minutes are calculated for delayed flights only. When multiple causes are assigned to one delayed flight, each cause is prorated based on the delayed minutes it is responsible for. The displayed numbers are rounded and may not add up to the total."
   ]
  },
  {
   "cell_type": "code",
   "execution_count": null,
   "metadata": {},
   "outputs": [],
   "source": []
  }
 ],
 "metadata": {
  "kernelspec": {
   "display_name": "Python 2",
   "language": "python",
   "name": "python2"
  },
  "language_info": {
   "codemirror_mode": {
    "name": "ipython",
    "version": 2
   },
   "file_extension": ".py",
   "mimetype": "text/x-python",
   "name": "python",
   "nbconvert_exporter": "python",
   "pygments_lexer": "ipython2",
   "version": "2.7.16"
  }
 },
 "nbformat": 4,
 "nbformat_minor": 2
}
