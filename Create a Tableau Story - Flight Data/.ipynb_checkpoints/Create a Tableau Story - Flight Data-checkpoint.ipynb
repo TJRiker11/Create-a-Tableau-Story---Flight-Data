{
 "cells": [
  {
   "cell_type": "markdown",
   "metadata": {},
   "source": [
    "# Create a Tableau Story - Flight Data"
   ]
  },
  {
   "cell_type": "markdown",
   "metadata": {},
   "source": [
    "> Full Tableau profile can be seen [Here](https://public.tableau.com/profile/trikerdev)."
   ]
  },
  {
   "cell_type": "markdown",
   "metadata": {},
   "source": [
    "> This dataset is collected from the United States Department of Transportation on flight delays from January 2010 to December 2019. The original dataset can be seen and download from [Here, On-Time Arrival Performance\n",
    "National (January, 2010 - December, 2019)](https://www.transtats.bts.gov/OT_Delay/OT_DelayCause1.asp?pn=1)."
   ]
  },
  {
   "cell_type": "markdown",
   "metadata": {},
   "source": [
    "> The full dataset used and all other project files can be seen in [This Github Repository](https://github.com/TrikerDev/Create-a-Tableau-Story---Flight-Data)."
   ]
  },
  {
   "cell_type": "markdown",
   "metadata": {},
   "source": [
    "[Rough Draft](https://public.tableau.com/profile/trikerdev#!/vizhome/AirlineDataRoughDraft/DelayTypes)"
   ]
  },
  {
   "cell_type": "markdown",
   "metadata": {},
   "source": [
    "[Final](https://public.tableau.com/profile/trikerdev#!/vizhome/AirlineDataFinal/FinalStory)"
   ]
  },
  {
   "cell_type": "markdown",
   "metadata": {},
   "source": [
    "## Causes of Delay"
   ]
  },
  {
   "cell_type": "markdown",
   "metadata": {},
   "source": [
    "Airlines that report monthly numbers of flight delays to the BTS began reporting information on causes of delays in June 2003. The airlines report the causes of delays in five broad categories:\n",
    "\n",
    ">* **Air Carrier**: The cause of the cancellation or delay was due to circumstances within the airline's control (e.g. maintenance or crew problems, aircraft cleaning, baggage loading, fueling, etc.).\n",
    "\n",
    ">* **Extreme Weather**: Significant meteorological conditions (actual or forecasted) that, in the judgment of the carrier, delays or prevents the operation of a flight such as tornado, blizzard or hurricane.\n",
    "\n",
    ">* **National Aviation System (NAS)**: Delays and cancellations attributable to the national aviation system that refer to a broad set of conditions, such as non-extreme weather conditions, airport operations, heavy traffic volume, and air traffic control.\n",
    "\n",
    ">* **Late-arriving aircraft**: A previous flight with same aircraft arrived late, causing the present flight to depart late.\n",
    "\n",
    ">* **Security**: Delays or cancellations caused by evacuation of a terminal or concourse, re-boarding of aircraft because of security breach, inoperative screening equipment and/or long lines in excess of 29 minutes at screening areas."
   ]
  },
  {
   "cell_type": "markdown",
   "metadata": {},
   "source": [
    "How are flight delays calculated?\n",
    "\n",
    "> A flight is counted as \"on time\" if it operated less than 15 minutes later than the scheduled time shown in the carriers' Computerized Reservations Systems (CRS). Arrival performance is based on arrival at the gate. Departure performance is based on departure from the gate.\n",
    "\n",
    "> A flight is considered delayed when it arrived 15 or more minutes later than the scheduled time. Delayed minutes are calculated for delayed flights only. When multiple causes are assigned to one delayed flight, each cause is prorated based on the delayed minutes it is responsible for. The displayed numbers are rounded and may not add up to the total."
   ]
  },
  {
   "cell_type": "markdown",
   "metadata": {},
   "source": [
    "## Feedback from Rough Draft"
   ]
  },
  {
   "cell_type": "markdown",
   "metadata": {},
   "source": [
    "What do you notice in the visualization?"
   ]
  },
  {
   "cell_type": "markdown",
   "metadata": {},
   "source": [
    "> The things that catch my eye the most are the map views and the bubble charts. Some of the other data visualizations are more bland and could be added to."
   ]
  },
  {
   "cell_type": "markdown",
   "metadata": {},
   "source": [
    "What questions do you have about the data?"
   ]
  },
  {
   "cell_type": "markdown",
   "metadata": {},
   "source": [
    "> Why does Southwest have so many late flights? Is it just because they have more flights than all the others, or is there actually something else causing a higher volume of late flights?"
   ]
  },
  {
   "cell_type": "markdown",
   "metadata": {},
   "source": [
    "What relationships do you notice?"
   ]
  },
  {
   "cell_type": "markdown",
   "metadata": {},
   "source": [
    "> This is back on Southwest airlines. Why are there so many late flights? Is it just because they have more flights? So More Flights = More Late Flights? Or what else is happening? Its very cool to see which areas have more weather delays and cancellations and which areas dont. Seeing how the actual geography and weather areas affect the airports is neat. Seeing which carriers call off the most flights for carrier reasons is intersting."
   ]
  },
  {
   "cell_type": "markdown",
   "metadata": {},
   "source": [
    "What do you think is the main takeaway from this visualization?"
   ]
  },
  {
   "cell_type": "markdown",
   "metadata": {},
   "source": [
    "> I think the questions that were asked about the data were answered. There could just be more detail and cleaner data visualizations."
   ]
  },
  {
   "cell_type": "markdown",
   "metadata": {},
   "source": [
    "Is there something you don’t understand in the graphic?"
   ]
  },
  {
   "cell_type": "markdown",
   "metadata": {},
   "source": [
    "> The map view of the United States is cool and informative but its only the mainland US and there are other areas that are excluded from the view. The filters are too messy and take up too much room on the page. The legends dont properly explain the data."
   ]
  },
  {
   "cell_type": "markdown",
   "metadata": {},
   "source": [
    "## Changes\n",
    "\n",
    "> The changes I made based on the feedback was a lot of cleaning things up and making them more readable. First, I put everything into a story presentation view so it would be easier to view and understand as the user clicks through the pages. I streched the graphs to get as much detail as possible on the page to see. Added and changed legends to explain more detail of the graphs. Changed the filters so one filter controls an entire page of charts, rather than one filer per chart. This was you can change the filter in one place, and it affects all graphs. Added more details to possibly explain certain outcomes, like more flights per carrier could equate to more delays etc. Added more details to maps and more map views. Added a percentage view to the late airlines data to show that some carriers have a higher or lower percentage of total late flights, no matter how many total flights they have. Added text data numbers for each data point explored, so along with the visualizations, there are also hard data numbers to reference and compare."
   ]
  },
  {
   "cell_type": "markdown",
   "metadata": {},
   "source": [
    "## Purpose : The Questions"
   ]
  },
  {
   "cell_type": "markdown",
   "metadata": {},
   "source": [
    "> I had several questions that I wanted to answer when I started this project. Those questions were:\n",
    ">* What are the main causes of delay by year and month?\n",
    ">* Which areas get the most weather delays?\n",
    ">* Which carriers call the most carrier cancellations and delays?\n",
    ">* Which carriers have the most late aircraft?"
   ]
  },
  {
   "cell_type": "markdown",
   "metadata": {},
   "source": [
    "## Answers"
   ]
  },
  {
   "cell_type": "markdown",
   "metadata": {},
   "source": [
    "What are the main causes of delay by year and month?"
   ]
  },
  {
   "cell_type": "markdown",
   "metadata": {},
   "source": [
    "> The main cause of delay over all time periods are Late Aircraft delays. These make up the vast majority of all delays. Next comes Carrier delays, followed NAS delays, followed by Weather delays. Then the most uncommon type of delay is a Security delay. This order remains constant over all time periods of months and years. There is an increase in weather delays around winter months, December - February or so, but it is really not much of an increase and does not change the order of any types of delays. Late Aircraft delays are always the most common."
   ]
  },
  {
   "cell_type": "markdown",
   "metadata": {},
   "source": [
    "Which areas get the most weather delays?"
   ]
  },
  {
   "cell_type": "markdown",
   "metadata": {},
   "source": [
    "> The three airports with the most weather delays are Chicago O'Hare, Dallas/Fort Worth, and Hartsfield-Jackson. These three airports have actually the vast majority of all weather delays and cancellations out of all airports reported. The top 4 airports for weather delays, which includes Denver International as well, are the only 4 airports to have over 1 million weather delays. Chichago O'Hare is actually only 65,000 delays away from 2 million total, at the time of reporting."
   ]
  },
  {
   "cell_type": "markdown",
   "metadata": {},
   "source": [
    "Which carriers call the most carrier cancellations and delays?"
   ]
  },
  {
   "cell_type": "markdown",
   "metadata": {},
   "source": [
    "> The carrier that calls the most delays and cancellations is Southwest Airlines. They have had 34.5 million delays at the time of reporting, compared to 2nd most Delta Airlines at 28.2 million."
   ]
  },
  {
   "cell_type": "markdown",
   "metadata": {},
   "source": [
    "Which carriers have the most late aircraft?"
   ]
  },
  {
   "cell_type": "markdown",
   "metadata": {},
   "source": [
    "> The carrier with the most late aircraft by far is Southwest Airlines, which also takes up a significant portion of the percentage for late aircraft - 27%. SkyWest airlines also makes a jump here, having many late aircraft in relation to their total flights. SkyWest has typically been 4th on the list but makes a jump up to 2nd for the total number of Late Aircraft. Southwest has by far the most at 61.4 million, but SkyWest makes the jump to second at 34.5 million."
   ]
  }
 ],
 "metadata": {
  "kernelspec": {
   "display_name": "Python 2",
   "language": "python",
   "name": "python2"
  },
  "language_info": {
   "codemirror_mode": {
    "name": "ipython",
    "version": 2
   },
   "file_extension": ".py",
   "mimetype": "text/x-python",
   "name": "python",
   "nbconvert_exporter": "python",
   "pygments_lexer": "ipython2",
   "version": "2.7.16"
  }
 },
 "nbformat": 4,
 "nbformat_minor": 2
}
