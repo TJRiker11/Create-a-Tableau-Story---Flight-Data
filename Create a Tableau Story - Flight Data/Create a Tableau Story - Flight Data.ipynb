{
 "cells": [
  {
   "cell_type": "markdown",
   "metadata": {},
   "source": [
    "# Create a Tableau Story - Flight Data"
   ]
  },
  {
   "cell_type": "markdown",
   "metadata": {},
   "source": [
    "> Full Tableau profile can be seen [Here](https://public.tableau.com/profile/trikerdev)."
   ]
  },
  {
   "cell_type": "markdown",
   "metadata": {},
   "source": [
    "> This dataset is collected from the United States Department of Transportation on flight delays from January 2010 to January 2020. The original dataset can be seen and download from [Here, On-Time Arrival Performance\n",
    "National (January, 2010 - January, 2020)](https://www.transtats.bts.gov/OT_Delay/OT_DelayCause1.asp?pn=1)."
   ]
  },
  {
   "cell_type": "markdown",
   "metadata": {},
   "source": [
    "> The full dataset used and all other project files can be seen in [This Github Repository](https://github.com/TrikerDev/Create-a-Tableau-Story---Flight-Data)."
   ]
  },
  {
   "cell_type": "code",
   "execution_count": null,
   "metadata": {},
   "outputs": [],
   "source": []
  }
 ],
 "metadata": {
  "kernelspec": {
   "display_name": "Python 2",
   "language": "python",
   "name": "python2"
  },
  "language_info": {
   "codemirror_mode": {
    "name": "ipython",
    "version": 2
   },
   "file_extension": ".py",
   "mimetype": "text/x-python",
   "name": "python",
   "nbconvert_exporter": "python",
   "pygments_lexer": "ipython2",
   "version": "2.7.16"
  }
 },
 "nbformat": 4,
 "nbformat_minor": 2
}
